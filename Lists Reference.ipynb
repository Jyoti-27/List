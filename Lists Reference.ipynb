{
 "cells": [
  {
   "cell_type": "markdown",
   "metadata": {},
   "source": [
    "# Lists\n",
    "- ordered sequence\n",
    "- multiple data elements\n",
    "- multiple data types\n",
    "- mutable\n",
    "- iterable"
   ]
  },
  {
   "cell_type": "markdown",
   "metadata": {},
   "source": [
    "## Creating a list"
   ]
  },
  {
   "cell_type": "markdown",
   "metadata": {},
   "source": [
    "#### using [ ]"
   ]
  },
  {
   "cell_type": "code",
   "execution_count": 1,
   "metadata": {},
   "outputs": [
    {
     "name": "stdout",
     "output_type": "stream",
     "text": [
      "list1:  [1, 3, 6.8, True, 9]\n",
      "type(list1):  <class 'list'>\n"
     ]
    }
   ],
   "source": [
    "list1 = [1, 3, 6.8, True, 9]\n",
    "print('list1: ' , list1)\n",
    "print(\"type(list1): \" , type(list1))"
   ]
  },
  {
   "cell_type": "markdown",
   "metadata": {},
   "source": [
    "#### using list( )"
   ]
  },
  {
   "cell_type": "code",
   "execution_count": 2,
   "metadata": {},
   "outputs": [
    {
     "name": "stdout",
     "output_type": "stream",
     "text": [
      "list2:  [1, 3, 'dawn', 6, 8, 'dusk', 9]\n",
      "type(list2):  <class 'list'>\n"
     ]
    }
   ],
   "source": [
    "list2 = list((1, 3, 'dawn', 6, 8, 'dusk', 9))\n",
    "print('list2: ' , list2)\n",
    "print(\"type(list2): \" , type(list2))"
   ]
  },
  {
   "cell_type": "markdown",
   "metadata": {},
   "source": [
    "##### using range()"
   ]
  },
  {
   "cell_type": "code",
   "execution_count": 3,
   "metadata": {},
   "outputs": [
    {
     "name": "stdout",
     "output_type": "stream",
     "text": [
      "list_range:  range(0, 20)\n",
      "type(list_range):  <class 'range'>\n",
      "List from range:  [0, 1, 2, 3, 4, 5, 6, 7, 8, 9, 10, 11, 12, 13, 14, 15, 16, 17, 18, 19]\n",
      "<class 'list'>\n"
     ]
    }
   ],
   "source": [
    "#giving and printing the range and its type\n",
    "list_range = range(20)\n",
    "print('list_range: ' , list_range)\n",
    "print(\"type(list_range): \" , type(list_range))\n",
    "\n",
    "#converting the range into list\n",
    "list3 = list(list_range)\n",
    "print(\"List from range: \", list3)\n",
    "print(type(list3))"
   ]
  },
  {
   "cell_type": "markdown",
   "metadata": {},
   "source": [
    "## Nested Lists\n",
    "- lists wihin the list\n",
    "- Many elements\n",
    "- Multiple data types"
   ]
  },
  {
   "cell_type": "code",
   "execution_count": 4,
   "metadata": {},
   "outputs": [
    {
     "name": "stdout",
     "output_type": "stream",
     "text": [
      "Nested list: [12, 3.4, 'apple', ['Universe', ['Stars', 'Satellite']], 'Direction', [True, 0.9]]\n",
      "type of nested list:  <class 'list'>\n",
      "Length of the outer list:  6\n"
     ]
    }
   ],
   "source": [
    "nest_li = [12, 3.4, 'apple', ['Universe', ['Stars', 'Satellite']], 'Direction', [True, 0.9]]\n",
    "print('Nested list:' , nest_li)\n",
    "print(\"type of nested list: \" , type(nest_li))\n",
    "print(\"Length of the outer list: \", len(nest_li))"
   ]
  },
  {
   "cell_type": "markdown",
   "metadata": {},
   "source": [
    "## Accessing Elements\n",
    "- Syntax:\n",
    "          \n",
    "      list_name [index_outer_list] [index_inner_list1]...[index_inner_list_n]"
   ]
  },
  {
   "cell_type": "code",
   "execution_count": 5,
   "metadata": {},
   "outputs": [
    {
     "name": "stdout",
     "output_type": "stream",
     "text": [
      "list1[2]:  6.8\n",
      "list2[5]:  dusk\n",
      "list3[14]:  14\n"
     ]
    }
   ],
   "source": [
    "print('list1[2]: ', list1[2])\n",
    "print('list2[5]: ', list2[5])\n",
    "print('list3[14]: ', list3[14])"
   ]
  },
  {
   "cell_type": "code",
   "execution_count": 6,
   "metadata": {},
   "outputs": [
    {
     "name": "stdout",
     "output_type": "stream",
     "text": [
      "Nested list: [12, 3.4, 'apple', ['Universe', ['Stars', 'Satellite']], 'Direction', [True, 0.9]]\n",
      "nest_li[5]:  [True, 0.9]\n",
      "nest_li[5][1]:  0.9\n",
      "nest_li[3][1]: ['Stars', 'Satellite']\n",
      "nest_li[3][1][1]:  Satellite\n"
     ]
    }
   ],
   "source": [
    "print('Nested list:',nest_li)\n",
    "print('nest_li[5]: ', nest_li[5])\n",
    "print('nest_li[5][1]: ', nest_li[5][1])\n",
    "print('nest_li[3][1]:',nest_li[3][1])\n",
    "print('nest_li[3][1][1]: ', nest_li[3][1][1])"
   ]
  },
  {
   "cell_type": "markdown",
   "metadata": {},
   "source": [
    "## Slicing"
   ]
  },
  {
   "cell_type": "code",
   "execution_count": 7,
   "metadata": {},
   "outputs": [
    {
     "name": "stdout",
     "output_type": "stream",
     "text": [
      "List A :  [41, 45, 89, 82, 'dg', 'kjh', 'gfhgf', '45h', '4hk', 54]\n",
      "len(A):  10\n"
     ]
    }
   ],
   "source": [
    "A = [41, 45, 89, 82, 'dg', 'kjh', 'gfhgf', '45h', '4hk', 54]\n",
    "print(\"List A : \", A)\n",
    "print('len(A): ', len(A))"
   ]
  },
  {
   "cell_type": "code",
   "execution_count": 8,
   "metadata": {},
   "outputs": [
    {
     "name": "stdout",
     "output_type": "stream",
     "text": [
      "[82, 'dg', 'kjh', 'gfhgf', '45h']\n",
      "[41, 45, 89, 82, 'dg']\n",
      "['gfhgf', '45h', '4hk', 54]\n",
      "['dg', 'kjh', 'gfhgf', '45h', '4hk', 54]\n",
      "[82, 'dg', 'kjh', 'gfhgf', '45h', '4hk', 54]\n"
     ]
    }
   ],
   "source": [
    "print(A[3 : 8]) \n",
    "print(A[ : 5])\n",
    "print(A[6 : ])\n",
    "print(A[4 : len(A)])\n",
    "print(A[3 : 20])"
   ]
  },
  {
   "cell_type": "code",
   "execution_count": 9,
   "metadata": {},
   "outputs": [
    {
     "name": "stdout",
     "output_type": "stream",
     "text": [
      "['gfhgf', '45h', '4hk', 54]\n",
      "['4hk', '45h', 'gfhgf', 'kjh']\n",
      "[]\n",
      "[54, '4hk', '45h', 'gfhgf']\n",
      "[]\n",
      "[54, '4hk', '45h', 'gfhgf', 'kjh', 'dg', 82]\n"
     ]
    }
   ],
   "source": [
    "print(A[-4 : ])\n",
    "print(A[-2 : -6 : -1])\n",
    "print(A[-1 : -5])        #this will not give any result\n",
    "print(A[-1 : -5 : -1])   #we have give negative step size for the above \n",
    "print(A [-8 : -1 : -1])\n",
    "print(A[-1 : -8 : -1])"
   ]
  },
  {
   "cell_type": "markdown",
   "metadata": {},
   "source": [
    "### Lists Mutability"
   ]
  },
  {
   "cell_type": "code",
   "execution_count": 10,
   "metadata": {},
   "outputs": [
    {
     "name": "stdout",
     "output_type": "stream",
     "text": [
      "Orignal List: [41, 45, 89, 82, 'dg', 'kjh', 'gfhgf', '45h', '4hk', 54]\n",
      "ID of original list:  2335219137480\n",
      "Modified List: [41, 45, 89, 100, 'dg', 'kjh', 'gfhgf', '45h', '4hk', 54]\n",
      "ID of list after change:  2335219137480\n"
     ]
    }
   ],
   "source": [
    "#lists are mutable\n",
    "print('Orignal List:', A)\n",
    "print('ID of original list: ', id(A))\n",
    "\n",
    "A[3] = 100\n",
    "print('Modified List:', A)\n",
    "print('ID of list after change: ', id(A))"
   ]
  },
  {
   "cell_type": "markdown",
   "metadata": {},
   "source": [
    "## Adding Elements to the list"
   ]
  },
  {
   "cell_type": "markdown",
   "metadata": {},
   "source": [
    "### append() function\n",
    "- Syntax\n",
    "        \n",
    "        list_name.append(element)\n",
    "- appends the specified element at the last index of the list\n",
    "- takes one parameter to be added\n",
    "- could be one element or one nested list"
   ]
  },
  {
   "cell_type": "code",
   "execution_count": 11,
   "metadata": {},
   "outputs": [
    {
     "name": "stdout",
     "output_type": "stream",
     "text": [
      "Original List: [41, 45, 89, 100, 'dg', 'kjh', 'gfhgf', '45h', '4hk', 54]\n",
      "Length of original list:  10\n",
      "List after appending  [41, 45, 89, 100, 'dg', 'kjh', 'gfhgf', '45h', '4hk', 54, 'cat12']\n",
      "Length of list, now:  11\n"
     ]
    }
   ],
   "source": [
    "print(\"Original List:\" , A)\n",
    "print('Length of original list: ', len(A))\n",
    "\n",
    "#appending one element to the list\n",
    "A.append('cat12')\n",
    "print(\"List after appending \" , A)\n",
    "print('Length of list, now: ', len(A))\n"
   ]
  },
  {
   "cell_type": "code",
   "execution_count": 12,
   "metadata": {},
   "outputs": [
    {
     "ename": "TypeError",
     "evalue": "append() takes exactly one argument (3 given)",
     "output_type": "error",
     "traceback": [
      "\u001b[1;31m---------------------------------------------------------------------------\u001b[0m",
      "\u001b[1;31mTypeError\u001b[0m                                 Traceback (most recent call last)",
      "\u001b[1;32m<ipython-input-12-d2c87284a5a9>\u001b[0m in \u001b[0;36m<module>\u001b[1;34m\u001b[0m\n\u001b[0;32m      1\u001b[0m \u001b[1;31m#append function is used to add only one element in the list at the end , it cannot add more than one element\u001b[0m\u001b[1;33m\u001b[0m\u001b[1;33m\u001b[0m\u001b[1;33m\u001b[0m\u001b[0m\n\u001b[1;32m----> 2\u001b[1;33m \u001b[0mA\u001b[0m\u001b[1;33m.\u001b[0m\u001b[0mappend\u001b[0m\u001b[1;33m(\u001b[0m\u001b[1;36m3\u001b[0m\u001b[1;33m,\u001b[0m \u001b[1;36m6\u001b[0m\u001b[1;33m,\u001b[0m \u001b[1;34m'Multiple'\u001b[0m\u001b[1;33m)\u001b[0m      \u001b[1;31m#this will give us error\u001b[0m\u001b[1;33m\u001b[0m\u001b[1;33m\u001b[0m\u001b[0m\n\u001b[0m\u001b[0;32m      3\u001b[0m \u001b[0mprint\u001b[0m\u001b[1;33m(\u001b[0m\u001b[1;34m\"Modified list :\"\u001b[0m\u001b[1;33m,\u001b[0m \u001b[0mA\u001b[0m\u001b[1;33m)\u001b[0m\u001b[1;33m\u001b[0m\u001b[1;33m\u001b[0m\u001b[0m\n\u001b[0;32m      4\u001b[0m \u001b[0mprint\u001b[0m\u001b[1;33m(\u001b[0m\u001b[1;34m'Length of list, now: '\u001b[0m\u001b[1;33m,\u001b[0m \u001b[0mlen\u001b[0m\u001b[1;33m(\u001b[0m\u001b[0mA\u001b[0m\u001b[1;33m)\u001b[0m\u001b[1;33m)\u001b[0m\u001b[1;33m\u001b[0m\u001b[1;33m\u001b[0m\u001b[0m\n",
      "\u001b[1;31mTypeError\u001b[0m: append() takes exactly one argument (3 given)"
     ]
    }
   ],
   "source": [
    "#append function is used to add only one element in the list at the end , it cannot add more than one element\n",
    "A.append(3, 6, 'Multiple')      #this will give us error\n",
    "print(\"Modified list :\", A)\n",
    "print('Length of list, now: ', len(A))"
   ]
  },
  {
   "cell_type": "markdown",
   "metadata": {},
   "source": [
    "### extend() function\n",
    "- Syntax\n",
    "\n",
    "       List_name.extend([element1, element2, ..., element n])\n",
    "- extends the list with the specified elements at the last index"
   ]
  },
  {
   "cell_type": "code",
   "execution_count": 13,
   "metadata": {},
   "outputs": [
    {
     "name": "stdout",
     "output_type": "stream",
     "text": [
      "Original List:  [41, 45, 89, 100, 'dg', 'kjh', 'gfhgf', '45h', '4hk', 54, 'cat12']\n",
      "Length of list, now:  11\n",
      "List After extending [41, 45, 89, 100, 'dg', 'kjh', 'gfhgf', '45h', '4hk', 54, 'cat12', 'rabbit', 'ball']\n",
      "Length of list, now:  13\n"
     ]
    }
   ],
   "source": [
    "print(\"Original List: \" , A)\n",
    "print('Length of list, now: ', len(A))\n",
    "\n",
    "#extend function is used to add multiple elements in the list at the end\n",
    "A.extend(['rabbit','ball'])\n",
    "print('List After extending' , A )\n",
    "print('Length of list, now: ', len(A))"
   ]
  },
  {
   "cell_type": "markdown",
   "metadata": {},
   "source": [
    "### insert() function\n",
    "- Syntax\n",
    "   \n",
    "      List_name.insert(index, element)\n",
    "- inserts the specified element at the particular index and shifts all the other elements at the successive index values "
   ]
  },
  {
   "cell_type": "code",
   "execution_count": 14,
   "metadata": {},
   "outputs": [
    {
     "name": "stdout",
     "output_type": "stream",
     "text": [
      "Original List:  [41, 45, 89, 100, 'dg', 'kjh', 'gfhgf', '45h', '4hk', 54, 'cat12', 'rabbit', 'ball']\n",
      "List After inserting:  [41, 45, 89, 'apple', 100, 'dg', 'kjh', 'gfhgf', '45h', '4hk', 54, 'cat12', 'rabbit', 'ball']\n"
     ]
    }
   ],
   "source": [
    "print(\"Original List: \" , A)\n",
    "\n",
    "#insert function is used to insert any element at a specific index\n",
    "A.insert(3,\"apple\")\n",
    "print('List After inserting: ' , A )"
   ]
  },
  {
   "cell_type": "code",
   "execution_count": 15,
   "metadata": {},
   "outputs": [
    {
     "name": "stdout",
     "output_type": "stream",
     "text": [
      "Original List: [41, 45, 89, 'apple', 100, 'dg', 'kjh', 'gfhgf', '45h', '4hk', 54, 'cat12', 'rabbit', 'ball']\n",
      "Modified List: [41, 45, 89, 'apple', 100, 'dg', 'kjh', ['Dog', 'puppy'], 'gfhgf', '45h', '4hk', 54, 'cat12', 'rabbit', 'ball']\n"
     ]
    }
   ],
   "source": [
    "# inserting a nested list as one element\n",
    "print(\"Original List:\" , A)\n",
    "\n",
    "A.insert(7,['Dog','puppy'])\n",
    "print(\"Modified List:\" , A )"
   ]
  },
  {
   "cell_type": "markdown",
   "metadata": {},
   "source": [
    "# Deleting Elements from list"
   ]
  },
  {
   "cell_type": "markdown",
   "metadata": {},
   "source": [
    "### remove() function\n",
    "- Syntax\n",
    " \n",
    "     list_name.remove(element)\n",
    "- Removes the specified element from the list"
   ]
  },
  {
   "cell_type": "code",
   "execution_count": 16,
   "metadata": {},
   "outputs": [
    {
     "name": "stdout",
     "output_type": "stream",
     "text": [
      "Original List: [41, 45, 89, 'apple', 100, 'dg', 'kjh', ['Dog', 'puppy'], 'gfhgf', '45h', '4hk', 54, 'cat12', 'rabbit', 'ball']\n",
      "\n",
      "List after removing 100 : [41, 45, 89, 'apple', 'dg', 'kjh', ['Dog', 'puppy'], 'gfhgf', '45h', '4hk', 54, 'cat12', 'rabbit', 'ball']\n",
      "\n",
      "List after removing ['Dog' , 'puppy']: [41, 45, 89, 'apple', 'dg', 'kjh', 'gfhgf', '45h', '4hk', 54, 'cat12', 'rabbit', 'ball']\n"
     ]
    }
   ],
   "source": [
    "print(\"Original List:\" , A)\n",
    "\n",
    "A.remove(100)\n",
    "print(\"\\nList after removing 100 :\" , A )\n",
    "\n",
    "A.remove(['Dog' , 'puppy'])\n",
    "print(\"\\nList after removing ['Dog' , 'puppy']:\" , A )"
   ]
  },
  {
   "cell_type": "markdown",
   "metadata": {},
   "source": [
    "### pop() function\n",
    "- Syntax\n",
    "\n",
    "      list_name.pop(index = optional)\n",
    "- by default, it will remove the element at the last index, like in a stack\n",
    "- pop() function gives the popped element as the output which can also be stored in some variable for further use."
   ]
  },
  {
   "cell_type": "code",
   "execution_count": 17,
   "metadata": {},
   "outputs": [
    {
     "name": "stdout",
     "output_type": "stream",
     "text": [
      "Original List:  [41, 45, 89, 'apple', 'dg', 'kjh', 'gfhgf', '45h', '4hk', 54, 'cat12', 'rabbit', 'ball']\n",
      "After: [41, 45, 89, 'apple', 'dg', 'kjh', 'gfhgf', '45h', '4hk', 54, 'cat12', 'rabbit']\n"
     ]
    }
   ],
   "source": [
    "print(\"Original List: \" , A)\n",
    "\n",
    "#it will remove the last element\n",
    "A.pop()\n",
    "print(\"After:\" , A )"
   ]
  },
  {
   "cell_type": "code",
   "execution_count": 18,
   "metadata": {},
   "outputs": [
    {
     "name": "stdout",
     "output_type": "stream",
     "text": [
      "popped_value:  45h\n",
      "List: [41, 45, 89, 'apple', 'dg', 'kjh', 'gfhgf', '4hk', 54, 'cat12', 'rabbit']\n"
     ]
    }
   ],
   "source": [
    "#by giving index value it will remove that specific element\n",
    "popped_value = A.pop(7)\n",
    "print('popped_value: ', popped_value)\n",
    "print('List:',A)"
   ]
  },
  {
   "cell_type": "code",
   "execution_count": 19,
   "metadata": {},
   "outputs": [],
   "source": [
    "# using the popped value again to insert in the list\n",
    "A.append(popped_value)"
   ]
  },
  {
   "cell_type": "code",
   "execution_count": 20,
   "metadata": {},
   "outputs": [
    {
     "name": "stdout",
     "output_type": "stream",
     "text": [
      "[41, 45, 89, 'apple', 'dg', 'kjh', 'gfhgf', '4hk', 54, 'cat12', 'rabbit', '45h']\n"
     ]
    }
   ],
   "source": [
    "print(A)"
   ]
  },
  {
   "cell_type": "markdown",
   "metadata": {},
   "source": [
    "### del function\n",
    "- Syntax \n",
    "\n",
    "      del list_name[index]\n",
    "- deletes the elements of the specified index\n",
    "- useful to delete a slice of the list\n",
    "- can also delete the instance of the list"
   ]
  },
  {
   "cell_type": "code",
   "execution_count": 21,
   "metadata": {},
   "outputs": [
    {
     "name": "stdout",
     "output_type": "stream",
     "text": [
      "List:  [41, 45, 89, 'apple', 'dg', 'kjh', 'gfhgf', '4hk', 54, 'cat12', 'rabbit', '45h']\n",
      "After deleting: [41, 45, 89, 'dg', 'kjh', 'gfhgf', '4hk', 54, 'cat12', 'rabbit', '45h']\n",
      "After deleting A[3 : 5]: [41, 45, 89, 'gfhgf', '4hk', 54, 'cat12', 'rabbit', '45h']\n"
     ]
    }
   ],
   "source": [
    "print('List: ', A)\n",
    "del A[3]\n",
    "print('After deleting:', A)\n",
    "\n",
    "del A[3 : 5]\n",
    "print('After deleting A[3 : 5]:', A)"
   ]
  },
  {
   "cell_type": "code",
   "execution_count": 22,
   "metadata": {},
   "outputs": [
    {
     "ename": "NameError",
     "evalue": "name 'A' is not defined",
     "output_type": "error",
     "traceback": [
      "\u001b[1;31m---------------------------------------------------------------------------\u001b[0m",
      "\u001b[1;31mNameError\u001b[0m                                 Traceback (most recent call last)",
      "\u001b[1;32m<ipython-input-22-05007b70aa98>\u001b[0m in \u001b[0;36m<module>\u001b[1;34m\u001b[0m\n\u001b[0;32m      1\u001b[0m \u001b[1;31m#it will delete the list\u001b[0m\u001b[1;33m\u001b[0m\u001b[1;33m\u001b[0m\u001b[1;33m\u001b[0m\u001b[0m\n\u001b[0;32m      2\u001b[0m \u001b[1;32mdel\u001b[0m \u001b[0mA\u001b[0m\u001b[1;33m\u001b[0m\u001b[1;33m\u001b[0m\u001b[0m\n\u001b[1;32m----> 3\u001b[1;33m \u001b[0mprint\u001b[0m\u001b[1;33m(\u001b[0m\u001b[0mA\u001b[0m\u001b[1;33m)\u001b[0m\u001b[1;33m\u001b[0m\u001b[1;33m\u001b[0m\u001b[0m\n\u001b[0m",
      "\u001b[1;31mNameError\u001b[0m: name 'A' is not defined"
     ]
    }
   ],
   "source": [
    "#it will delete the list\n",
    "del A\n",
    "print(A) #this will give error as our list A is deleted"
   ]
  },
  {
   "cell_type": "markdown",
   "metadata": {},
   "source": [
    "## Sorting"
   ]
  },
  {
   "cell_type": "markdown",
   "metadata": {},
   "source": [
    "##### using sort() function"
   ]
  },
  {
   "cell_type": "code",
   "execution_count": 24,
   "metadata": {},
   "outputs": [
    {
     "name": "stdout",
     "output_type": "stream",
     "text": [
      "Original List:  [12, 3, 40, 590, 454, 89, 7678]\n",
      "List after sort():  [3, 12, 40, 89, 454, 590, 7678]\n"
     ]
    }
   ],
   "source": [
    "L = [12,3,40, 590, 454, 89, 7678]\n",
    "print(\"Original List: \", L)\n",
    "\n",
    "#sorting list -it will be automatically sorted to ascending order\n",
    "L.sort()\n",
    "print(\"List after sort(): \", L)"
   ]
  },
  {
   "cell_type": "code",
   "execution_count": 25,
   "metadata": {},
   "outputs": [
    {
     "name": "stdout",
     "output_type": "stream",
     "text": [
      "Original List:  [12, 3, 40, 590, 454, 89, 7678]\n",
      "\n",
      "List after sorting in descendig order:  [7678, 590, 454, 89, 40, 12, 3]\n"
     ]
    }
   ],
   "source": [
    "L = [12,3,40, 590, 454, 89, 7678]\n",
    "print(\"Original List: \", L)\n",
    "\n",
    "#sorting list in descending order\n",
    "L.sort(reverse = True)\n",
    "\n",
    "print(\"\\nList after sorting in descendig order: \", L)\n"
   ]
  },
  {
   "cell_type": "markdown",
   "metadata": {},
   "source": [
    "##### using sorted() function"
   ]
  },
  {
   "cell_type": "code",
   "execution_count": 26,
   "metadata": {},
   "outputs": [
    {
     "name": "stdout",
     "output_type": "stream",
     "text": [
      "Original List:  [12, 3, 40, 590, 454, 89, 7678]\n",
      "\n",
      "sorted(L):  [3, 12, 40, 89, 454, 590, 7678]\n",
      "\n",
      "List after sorted(L):  [12, 3, 40, 590, 454, 89, 7678]\n"
     ]
    }
   ],
   "source": [
    "L = [12,3,40, 590, 454, 89, 7678]\n",
    "print(\"Original List: \", L)\n",
    "\n",
    "#sorting the list using sorted() function\n",
    "print(\"\\nsorted(L): \", sorted(L))\n",
    "\n",
    "#sorted function will no change the original list\n",
    "print(\"\\nList after sorted(L): \", L)\n"
   ]
  },
  {
   "cell_type": "code",
   "execution_count": 30,
   "metadata": {},
   "outputs": [
    {
     "name": "stdout",
     "output_type": "stream",
     "text": [
      "List is : ['a', 'u', 'd', 'g', 'o', 'c', 'm', 'q']\n",
      "\n",
      "Sorted list : ['a', 'c', 'd', 'g', 'm', 'o', 'q', 'u']\n",
      "\n",
      "List is : ['a', 'u', 'd', 'g', 'o', 'c', 'm', 'q']\n"
     ]
    }
   ],
   "source": [
    "alphabets = ['a', 'u', 'd' , 'g' , 'o' , 'c' , 'm' , 'q']\n",
    "print(\"List is :\", alphabets)\n",
    "print(\"\\nSorted list :\", sorted(alphabets))\n",
    "print(\"\\nList is :\", alphabets)"
   ]
  },
  {
   "cell_type": "code",
   "execution_count": 31,
   "metadata": {},
   "outputs": [
    {
     "name": "stdout",
     "output_type": "stream",
     "text": [
      "['a', 'c', 'd', 'g', 'm', 'o', 'q', 'u']\n",
      "['u', 'q', 'o', 'm', 'g', 'd', 'c', 'a']\n"
     ]
    }
   ],
   "source": [
    "#sorting in ascending order\n",
    "(alphabets.sort())\n",
    "print(alphabets)\n",
    "\n",
    "#sorting in descending order\n",
    "(alphabets.sort(reverse = True))\n",
    "print(alphabets)"
   ]
  },
  {
   "cell_type": "code",
   "execution_count": 32,
   "metadata": {},
   "outputs": [
    {
     "data": {
      "text/plain": [
       "['mine', 'my', 'our', 'us', 'you', 'your']"
      ]
     },
     "execution_count": 32,
     "metadata": {},
     "output_type": "execute_result"
    }
   ],
   "source": [
    "# Sorting of strings takes place in lexographically(dictionary format)\n",
    "str = [\"my\", \"mine\", \"you\", \"your\", \"us\", \"our\"]\n",
    "str.sort()\n",
    "str"
   ]
  },
  {
   "cell_type": "markdown",
   "metadata": {},
   "source": [
    "###### Priority for ascending order on the basis of first character:\n",
    "- numbers < capital letters < small letters"
   ]
  },
  {
   "cell_type": "code",
   "execution_count": 33,
   "metadata": {},
   "outputs": [
    {
     "data": {
      "text/plain": [
       "['$D', '1my', '@w', 'A', 'You', 'mine3', 'ou2r', 'us', 'your']"
      ]
     },
     "execution_count": 33,
     "metadata": {},
     "output_type": "execute_result"
    }
   ],
   "source": [
    "str_num = [\"1my\",\"A\" ,\"mine3\",'$D', '@w' ,\"You\", \"your\", \"us\", \"ou2r\"]\n",
    "str_num.sort()\n",
    "str_num"
   ]
  },
  {
   "cell_type": "markdown",
   "metadata": {},
   "source": [
    "### Some methods of list"
   ]
  },
  {
   "cell_type": "code",
   "execution_count": 34,
   "metadata": {},
   "outputs": [
    {
     "data": {
      "text/plain": [
       "7"
      ]
     },
     "execution_count": 34,
     "metadata": {},
     "output_type": "execute_result"
    }
   ],
   "source": [
    "#this will give the index of the element\n",
    "str_num.index('us')"
   ]
  },
  {
   "cell_type": "code",
   "execution_count": 35,
   "metadata": {},
   "outputs": [
    {
     "data": {
      "text/plain": [
       "[]"
      ]
     },
     "execution_count": 35,
     "metadata": {},
     "output_type": "execute_result"
    }
   ],
   "source": [
    "#this will clear all the elements of the list and give empty list\n",
    "str_num.clear()\n",
    "str_num"
   ]
  },
  {
   "cell_type": "code",
   "execution_count": 38,
   "metadata": {},
   "outputs": [
    {
     "data": {
      "text/plain": [
       "[2, 4, 6, 8, 2, 10]"
      ]
     },
     "execution_count": 38,
     "metadata": {},
     "output_type": "execute_result"
    }
   ],
   "source": [
    "#this is used to make the copy of list\n",
    "str_num=[2,4,6,8,2,10]\n",
    "str_num2 = str_num.copy()\n",
    "str_num2"
   ]
  },
  {
   "cell_type": "code",
   "execution_count": 39,
   "metadata": {},
   "outputs": [
    {
     "data": {
      "text/plain": [
       "2"
      ]
     },
     "execution_count": 39,
     "metadata": {},
     "output_type": "execute_result"
    }
   ],
   "source": [
    "#this will count the occurance of the element\n",
    "str_num.count(2)"
   ]
  },
  {
   "cell_type": "raw",
   "metadata": {},
   "source": [
    "Operators : + and *"
   ]
  },
  {
   "cell_type": "code",
   "execution_count": 41,
   "metadata": {},
   "outputs": [
    {
     "name": "stdout",
     "output_type": "stream",
     "text": [
      "[1, 2, 3, 4, 4, 5, 6]\n"
     ]
    }
   ],
   "source": [
    "#joining two lists\n",
    "a = [1,2,3,4]\n",
    "b=[4,5,6]\n",
    "new_list=a+b\n",
    "print(new_list)"
   ]
  },
  {
   "cell_type": "code",
   "execution_count": 44,
   "metadata": {},
   "outputs": [
    {
     "name": "stdout",
     "output_type": "stream",
     "text": [
      "False\n",
      "True\n"
     ]
    }
   ],
   "source": [
    "#checking if the item exists in list or not\n",
    "print(7 in new_list)\n",
    "print(3 in new_list)"
   ]
  },
  {
   "cell_type": "code",
   "execution_count": 48,
   "metadata": {},
   "outputs": [
    {
     "name": "stdout",
     "output_type": "stream",
     "text": [
      "Enter a list:[3,4,6,8]\n",
      "<class 'list'>\n",
      "[3, 4, 6, 8]\n"
     ]
    }
   ],
   "source": [
    "#this is how to take a list from the user\n",
    "#eval function will convert the input into a list if we use [] brackets\n",
    "List =eval(input('Enter a list:'))\n",
    "print(type(List))\n",
    "print(List)"
   ]
  },
  {
   "cell_type": "code",
   "execution_count": null,
   "metadata": {},
   "outputs": [],
   "source": []
  }
 ],
 "metadata": {
  "kernelspec": {
   "display_name": "Python 3",
   "language": "python",
   "name": "python3"
  },
  "language_info": {
   "codemirror_mode": {
    "name": "ipython",
    "version": 3
   },
   "file_extension": ".py",
   "mimetype": "text/x-python",
   "name": "python",
   "nbconvert_exporter": "python",
   "pygments_lexer": "ipython3",
   "version": "3.7.6"
  }
 },
 "nbformat": 4,
 "nbformat_minor": 2
}
